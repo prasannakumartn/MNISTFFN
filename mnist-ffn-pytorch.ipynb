{
 "cells": [
  {
   "cell_type": "code",
   "execution_count": 1,
   "metadata": {
    "_cell_guid": "b1076dfc-b9ad-4769-8c92-a6c4dae69d19",
    "_uuid": "8f2839f25d086af736a60e9eeb907d3b93b6e0e5"
   },
   "outputs": [
    {
     "name": "stdout",
     "output_type": "stream",
     "text": [
      "/kaggle/input/test.csv\n",
      "/kaggle/input/train.csv\n",
      "/kaggle/input/sample_submission.csv\n"
     ]
    }
   ],
   "source": [
    "# This Python 3 environment comes with many helpful analytics libraries installed\n",
    "# It is defined by the kaggle/python docker image: https://github.com/kaggle/docker-python\n",
    "# For example, here's several helpful packages to load in \n",
    "\n",
    "from pathlib import Path\n",
    "import torch\n",
    "from torch.utils.data import TensorDataset ,DataLoader\n",
    "from torch import nn,optim\n",
    "import torch.nn.functional as F\n",
    "import numpy as np # linear algebra\n",
    "import pandas as pd # data processing, CSV file I/O (e.g. pd.read_csv)\n",
    "from sklearn.model_selection import train_test_split\n",
    "\n",
    "# Input data files are available in the \"../input/\" directory.\n",
    "# For example, running this (by clicking run or pressing Shift+Enter) will list all files under the input directory\n",
    "\n",
    "import os\n",
    "for dirname, _, filenames in os.walk('/kaggle/input'):\n",
    "    for filename in filenames:\n",
    "        print(os.path.join(dirname, filename))\n",
    "\n",
    "# Any results you write to the current directory are saved as output."
   ]
  },
  {
   "cell_type": "code",
   "execution_count": 2,
   "metadata": {},
   "outputs": [
    {
     "data": {
      "text/plain": [
       "((42000, 785), (28000, 784))"
      ]
     },
     "execution_count": 2,
     "metadata": {},
     "output_type": "execute_result"
    }
   ],
   "source": [
    "train=pd.read_csv('/kaggle/input/train.csv')\n",
    "test=pd.read_csv('/kaggle/input/test.csv')\n",
    "train.shape,test.shape"
   ]
  },
  {
   "cell_type": "code",
   "execution_count": 3,
   "metadata": {},
   "outputs": [
    {
     "data": {
      "text/plain": [
       "((42000, 784), (42000,))"
      ]
     },
     "execution_count": 3,
     "metadata": {},
     "output_type": "execute_result"
    }
   ],
   "source": [
    "x=train.drop(\"label\",axis=1)\n",
    "y=np.array(train['label'])\n",
    "x.shape,y.shape"
   ]
  },
  {
   "cell_type": "code",
   "execution_count": 4,
   "metadata": {},
   "outputs": [
    {
     "name": "stdout",
     "output_type": "stream",
     "text": [
      "len of trainSet 33600 , len of testSet 8400\n"
     ]
    }
   ],
   "source": [
    "torch_X_train = torch.from_numpy(x.values).type(torch.FloatTensor)/255\n",
    "torch_y_train = torch.from_numpy(y).type(torch.LongTensor)\n",
    "myDataset = torch.utils.data.TensorDataset(torch_X_train,torch_y_train)\n",
    "valid_no  = int(0.2 * len(myDataset))\n",
    "# so divide the data into trainset and testset\n",
    "trainSet,testSet = torch.utils.data.random_split(myDataset,(len(myDataset)-valid_no,valid_no))\n",
    "print(f\"len of trainSet {len(trainSet)} , len of testSet {len(testSet)}\")\n",
    "batch_size=64\n",
    "train_loader  = DataLoader(trainSet , batch_size=batch_size ,shuffle=True) \n",
    "test_loader  = DataLoader(testSet , batch_size=batch_size ,shuffle=True)"
   ]
  },
  {
   "cell_type": "code",
   "execution_count": 5,
   "metadata": {},
   "outputs": [],
   "source": [
    "from torch import nn, optim\n",
    "class Network(nn.Module):\n",
    "    def __init__(self):\n",
    "        super().__init__()\n",
    "        self.fc1 = nn.Linear(784, 256)\n",
    "        self.fc2 = nn.Linear(256, 128)\n",
    "        self.fc3 = nn.Linear(128, 64)\n",
    "        self.fc4 = nn.Linear(64, 10)\n",
    "\n",
    "        # Dropout module with 0.2 drop probability\n",
    "        self.dropout = nn.Dropout(p=0.2)\n",
    "\n",
    "    def forward(self, x):\n",
    "        # make sure input tensor is flattened\n",
    "        x = x.view(x.shape[0], -1)\n",
    "\n",
    "        # Now with dropout\n",
    "        x = self.dropout(F.relu(self.fc1(x)))\n",
    "        x = self.dropout(F.relu(self.fc2(x)))\n",
    "        x = self.dropout(F.relu(self.fc3(x)))\n",
    "\n",
    "        # output so no dropout here\n",
    "        x = F.log_softmax(self.fc4(x), dim=1)\n",
    "\n",
    "        return x\n",
    "        \n",
    "model=Network()\n",
    "optimizer=torch.optim.SGD(model.parameters(), lr=0.01, weight_decay= 1e-6, momentum = 0.9,nesterov = True)\n",
    "criterion=nn.CrossEntropyLoss()"
   ]
  },
  {
   "cell_type": "code",
   "execution_count": 6,
   "metadata": {},
   "outputs": [
    {
     "name": "stdout",
     "output_type": "stream",
     "text": [
      "Epoch: 1/30..  Training Loss: 1.160..  Test Loss: 0.354..  Test Accuracy: 0.893\n",
      "Epoch: 2/30..  Training Loss: 0.327..  Test Loss: 0.199..  Test Accuracy: 0.939\n",
      "Epoch: 3/30..  Training Loss: 0.215..  Test Loss: 0.148..  Test Accuracy: 0.952\n",
      "Epoch: 4/30..  Training Loss: 0.168..  Test Loss: 0.123..  Test Accuracy: 0.963\n",
      "Epoch: 5/30..  Training Loss: 0.137..  Test Loss: 0.118..  Test Accuracy: 0.963\n",
      "Epoch: 6/30..  Training Loss: 0.118..  Test Loss: 0.112..  Test Accuracy: 0.966\n",
      "Epoch: 7/30..  Training Loss: 0.101..  Test Loss: 0.093..  Test Accuracy: 0.974\n",
      "Epoch: 8/30..  Training Loss: 0.091..  Test Loss: 0.100..  Test Accuracy: 0.972\n",
      "Epoch: 9/30..  Training Loss: 0.082..  Test Loss: 0.088..  Test Accuracy: 0.975\n",
      "Epoch: 10/30..  Training Loss: 0.072..  Test Loss: 0.086..  Test Accuracy: 0.977\n",
      "Epoch: 11/30..  Training Loss: 0.069..  Test Loss: 0.084..  Test Accuracy: 0.978\n",
      "Epoch: 12/30..  Training Loss: 0.061..  Test Loss: 0.083..  Test Accuracy: 0.977\n",
      "Epoch: 13/30..  Training Loss: 0.053..  Test Loss: 0.085..  Test Accuracy: 0.977\n",
      "Epoch: 14/30..  Training Loss: 0.049..  Test Loss: 0.084..  Test Accuracy: 0.977\n",
      "Epoch: 15/30..  Training Loss: 0.047..  Test Loss: 0.088..  Test Accuracy: 0.978\n",
      "Epoch: 16/30..  Training Loss: 0.044..  Test Loss: 0.082..  Test Accuracy: 0.978\n",
      "Epoch: 17/30..  Training Loss: 0.038..  Test Loss: 0.095..  Test Accuracy: 0.975\n",
      "Epoch: 18/30..  Training Loss: 0.037..  Test Loss: 0.086..  Test Accuracy: 0.979\n",
      "Epoch: 19/30..  Training Loss: 0.035..  Test Loss: 0.091..  Test Accuracy: 0.976\n",
      "Epoch: 20/30..  Training Loss: 0.033..  Test Loss: 0.085..  Test Accuracy: 0.978\n",
      "Epoch: 21/30..  Training Loss: 0.030..  Test Loss: 0.089..  Test Accuracy: 0.978\n",
      "Epoch: 22/30..  Training Loss: 0.030..  Test Loss: 0.089..  Test Accuracy: 0.979\n",
      "Epoch: 23/30..  Training Loss: 0.028..  Test Loss: 0.088..  Test Accuracy: 0.980\n",
      "Epoch: 24/30..  Training Loss: 0.024..  Test Loss: 0.096..  Test Accuracy: 0.980\n",
      "Epoch: 25/30..  Training Loss: 0.025..  Test Loss: 0.093..  Test Accuracy: 0.980\n",
      "Epoch: 26/30..  Training Loss: 0.025..  Test Loss: 0.092..  Test Accuracy: 0.979\n",
      "Epoch: 27/30..  Training Loss: 0.023..  Test Loss: 0.096..  Test Accuracy: 0.978\n",
      "Epoch: 28/30..  Training Loss: 0.021..  Test Loss: 0.089..  Test Accuracy: 0.981\n",
      "Epoch: 29/30..  Training Loss: 0.021..  Test Loss: 0.089..  Test Accuracy: 0.980\n",
      "Epoch: 30/30..  Training Loss: 0.022..  Test Loss: 0.094..  Test Accuracy: 0.979\n"
     ]
    }
   ],
   "source": [
    "epochs=30\n",
    "train_losses,test_losses=[],[]\n",
    "for e in range(epochs):\n",
    "    running_loss=0\n",
    "    for images,labels in train_loader:\n",
    "        optimizer.zero_grad()\n",
    "        log_ps=model(images)\n",
    "        loss=criterion(log_ps,labels)\n",
    "        loss.backward()\n",
    "        optimizer.step()\n",
    "        running_loss+=loss.item()\n",
    "        \n",
    "    else:\n",
    "        test_loss=0\n",
    "        accuracy=0\n",
    "        \n",
    "        with torch.no_grad():\n",
    "            model.eval()\n",
    "            for images,labels in test_loader:\n",
    "                log_ps=model(images)\n",
    "                test_loss+=criterion(log_ps,labels)\n",
    "                ps=torch.exp(log_ps)\n",
    "                top_p,top_class=ps.topk(1,dim=1)\n",
    "                equals=top_class==labels.view(*top_class.shape)\n",
    "                accuracy+=torch.mean(equals.type(torch.FloatTensor))\n",
    "        model.train()\n",
    "        train_losses.append(running_loss/len(train_loader))\n",
    "        test_losses.append(test_loss/len(test_loader))\n",
    "\n",
    "        print(\"Epoch: {}/{}.. \".format(e+1, epochs),\n",
    "              \"Training Loss: {:.3f}.. \".format(running_loss/len(train_loader)),\n",
    "              \"Test Loss: {:.3f}.. \".format(test_loss/len(test_loader)),\n",
    "              \"Test Accuracy: {:.3f}\".format(accuracy/len(test_loader)))   "
   ]
  },
  {
   "cell_type": "code",
   "execution_count": 7,
   "metadata": {},
   "outputs": [
    {
     "name": "stdout",
     "output_type": "stream",
     "text": [
      "Our model: \n",
      "\n",
      " Network(\n",
      "  (fc1): Linear(in_features=784, out_features=256, bias=True)\n",
      "  (fc2): Linear(in_features=256, out_features=128, bias=True)\n",
      "  (fc3): Linear(in_features=128, out_features=64, bias=True)\n",
      "  (fc4): Linear(in_features=64, out_features=10, bias=True)\n",
      "  (dropout): Dropout(p=0.2)\n",
      ") \n",
      "\n",
      "The state dict keys: \n",
      "\n",
      " odict_keys(['fc1.weight', 'fc1.bias', 'fc2.weight', 'fc2.bias', 'fc3.weight', 'fc3.bias', 'fc4.weight', 'fc4.bias'])\n"
     ]
    }
   ],
   "source": [
    "print(\"Our model: \\n\\n\", model, '\\n')\n",
    "print(\"The state dict keys: \\n\\n\", model.state_dict().keys())"
   ]
  },
  {
   "cell_type": "code",
   "execution_count": 8,
   "metadata": {},
   "outputs": [],
   "source": [
    "torch.save(model.state_dict(), 'checkpoint.pth')"
   ]
  },
  {
   "cell_type": "code",
   "execution_count": 9,
   "metadata": {},
   "outputs": [
    {
     "name": "stdout",
     "output_type": "stream",
     "text": [
      "odict_keys(['fc1.weight', 'fc1.bias', 'fc2.weight', 'fc2.bias', 'fc3.weight', 'fc3.bias', 'fc4.weight', 'fc4.bias'])\n"
     ]
    }
   ],
   "source": [
    "state_dict = torch.load('checkpoint.pth')\n",
    "print(state_dict.keys())"
   ]
  },
  {
   "cell_type": "code",
   "execution_count": 10,
   "metadata": {},
   "outputs": [
    {
     "data": {
      "text/plain": [
       "IncompatibleKeys(missing_keys=[], unexpected_keys=[])"
      ]
     },
     "execution_count": 10,
     "metadata": {},
     "output_type": "execute_result"
    }
   ],
   "source": [
    "model.load_state_dict(state_dict)"
   ]
  },
  {
   "cell_type": "code",
   "execution_count": 11,
   "metadata": {},
   "outputs": [],
   "source": [
    "\n",
    "\n",
    "checkpoint = {'input_size': 784,\n",
    "              'output_size': 10,\n",
    "              'hidden_layers': [256,128,64],\n",
    "              'state_dict': model.state_dict()}\n",
    "\n",
    "torch.save(checkpoint, 'checkpoint.pth')\n"
   ]
  },
  {
   "cell_type": "code",
   "execution_count": 12,
   "metadata": {},
   "outputs": [
    {
     "name": "stdout",
     "output_type": "stream",
     "text": [
      "torch.Size([28000, 784])\n"
     ]
    }
   ],
   "source": [
    "test_images = pd.read_csv(\"/kaggle/input/test.csv\")\n",
    "test_image = test_images.loc[:,test_images.columns != \"label\"].values\n",
    "test_dataset = torch.from_numpy(test_image).type(torch.FloatTensor)/255\n",
    "print(test_dataset.shape)\n",
    "#test_dataset = torch.utils.data.TensorDataset(test_dataset)\n",
    "new_test_loader = torch.utils.data.DataLoader(test_dataset, batch_size = 100, shuffle = False)"
   ]
  },
  {
   "cell_type": "code",
   "execution_count": 13,
   "metadata": {},
   "outputs": [],
   "source": [
    "results = []\n",
    "with torch.no_grad():\n",
    "    model.eval()\n",
    "    for images in new_test_loader:\n",
    "        output = model(images)\n",
    "        ps = torch.exp(output)\n",
    "        top_p, top_class = ps.topk(1, dim = 1)\n",
    "        results += top_class.numpy().tolist()"
   ]
  },
  {
   "cell_type": "code",
   "execution_count": 14,
   "metadata": {},
   "outputs": [
    {
     "name": "stdout",
     "output_type": "stream",
     "text": [
      "[2 0 9 9 3]\n",
      "(28000,)\n"
     ]
    }
   ],
   "source": [
    "predictions = np.array(results).flatten()\n",
    "print(predictions[:5])\n",
    "print(predictions.shape)"
   ]
  },
  {
   "cell_type": "code",
   "execution_count": 15,
   "metadata": {},
   "outputs": [],
   "source": [
    "submissions=pd.DataFrame({\"ImageId\": list(range(1,len(predictions)+1)),\n",
    "                         \"Label\": predictions})\n",
    "submissions.to_csv(\"my_submissions.csv\", index=False, header=True)"
   ]
  }
 ],
 "metadata": {
  "kernelspec": {
   "display_name": "Python 3",
   "language": "python",
   "name": "python3"
  },
  "language_info": {
   "codemirror_mode": {
    "name": "ipython",
    "version": 3
   },
   "file_extension": ".py",
   "mimetype": "text/x-python",
   "name": "python",
   "nbconvert_exporter": "python",
   "pygments_lexer": "ipython3",
   "version": "3.6.6"
  }
 },
 "nbformat": 4,
 "nbformat_minor": 1
}
